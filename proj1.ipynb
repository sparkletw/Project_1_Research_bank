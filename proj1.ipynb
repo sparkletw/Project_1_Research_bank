Импортируем необходимые библиотеки и прочитаем файл
import pandas as pd

try:
    data = pd.read_csv('/datasets/data.csv')
except:
    data = pd.read_csv('https://code.s3.yandex.net/datasets/data.csv')
Ознакомимся с данными
data.head(20)
data.info()
Удаление пропусков
data.isna().sum()
children               0
days_employed       2174
dob_years              0
education              0
education_id           0
family_status          0
family_status_id       0
gender                 0
income_type            0
debt                   0
total_income        2174
purpose                0
dtype: int64
В двух столбцах есть пропущенные значения. Один из них — days_employed. Пропуски в этом столбце обработаем на следующем этапе. Другой столбец с пропущенными значениями — total_income — хранит данные о доходах. На сумму дохода сильнее всего влияет тип занятости, поэтому заполнить пропуски в этом столбце нужно медианным значением по каждому типу из столбца income_type.
